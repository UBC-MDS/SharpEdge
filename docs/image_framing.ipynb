{
 "cells": [
  {
   "cell_type": "markdown",
   "metadata": {},
   "source": [
    "# Image Framing\n",
    "\n",
    "Some explanation for what `frame_image` do. Update here.\n",
    "\n",
    "## Usage\n",
    "\n",
    "Show and describe how the sample images can be transformed. "
   ]
  },
  {
   "cell_type": "code",
   "execution_count": null,
   "metadata": {},
   "outputs": [],
   "source": [
    "# Code for frame_image"
   ]
  }
 ],
 "metadata": {
  "language_info": {
   "name": "python"
  }
 },
 "nbformat": 4,
 "nbformat_minor": 2
}
