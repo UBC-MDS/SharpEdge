{
 "cells": [
  {
   "cell_type": "markdown",
   "metadata": {},
   "source": [
    "# Framing Images with `frame_image`\n",
    "\n",
    "This tutorial demonstrates how to use the `frame_image` function to add a decorative frame around both grayscale and RGB images. The frame can be applied **inside** or **outside** the image, with customizable border size and color.\n",
    "\n",
    "We will guide you through the usage and functionality of the `frame_image` function in various scenarios. Let's get started!\n"
   ]
  },
  {
   "cell_type": "markdown",
   "metadata": {},
   "source": [
    "## Importing Necessary Libraries\n",
    "First, let's import the required libraries. Make sure to install any missing dependencies if necessary.\n",
    "\n",
    "```python\n",
    "import numpy as np\n",
    "import matplotlib.pyplot as plt\n",
    "import warnings\n",
    "from sharpedge._utils.utility import Utility\n",
    "from your_module_name import frame_image\n",
    "```"
   ]
  },
  {
   "cell_type": "markdown",
   "metadata": {},
   "source": [
    "## Preparing Your Image\n",
    "For the tutorial, let's create some simple sample images to demonstrate how the function works.\n",
    "\n",
    "### Example 1: Grayscale Image\n",
    "We will first create a simple grayscale image, which will be framed using our function.\n",
    "\n",
    "```python\n",
    "# Create a simple grayscale image (100x100 pixels)\n",
    "grayscale_img = np.random.rand(100, 100) * 255  # Random grayscale values between 0 and 255\n",
    "grayscale_img = grayscale_img.astype(np.uint8)\n",
    "```"
   ]
  },
  {
   "cell_type": "markdown",
   "metadata": {},
   "source": [
    "### Example 2: RGB Image\n",
    "Now let's create a simple RGB image for testing. An RGB image has 3 color channels (Red, Green, Blue).\n",
    "\n",
    "```python\n",
    "# Create a simple RGB image (100x100 pixels)\n",
    "rgb_img = np.random.rand(100, 100, 3) * 255  # Random RGB values between 0 and 255\n",
    "rgb_img = rgb_img.astype(np.uint8)\n",
    "```"
   ]
  },
  {
   "cell_type": "markdown",
   "metadata": {},
   "source": [
    "## Applying the `frame_image` Function\n",
    "We can now apply the `frame_image` function to add a border around the grayscale and RGB images. You can customize the border size and color.\n",
    "\n",
    "### Add a Border Inside the Grayscale Image\n",
    "Let's add a border **inside** the grayscale image, keeping the size of the image the same. We'll use a white border for this example.\n",
    "\n",
    "```python\n",
    "# Add an inside border to the grayscale image\n",
    "framed_grayscale_img = frame_image(grayscale_img, h_border=20, w_border=20, inside=True, color=255)\n",
    "```"
   ]
  },
  {
   "cell_type": "markdown",
   "metadata": {},
   "source": [
    "### Add a Border Outside the RGB Image\n",
    "Next, let's add a border **outside** the RGB image, which will increase the image size. We'll use a red border for this example.\n",
    "\n",
    "```python\n",
    "# Add an outside border to the RGB image\n",
    "framed_rgb_img = frame_image(rgb_img, h_border=20, w_border=20, inside=False, color=(255, 0, 0))\n",
    "```"
   ]
  },
  {
   "cell_type": "markdown",
   "metadata": {},
   "source": [
    "## Displaying the Results\n",
    "Let's now display both framed images using `matplotlib`.\n",
    "\n",
    "### Display the Grayscale Image with Border\n",
    "```python\n",
    "plt.imshow(framed_grayscale_img, cmap='gray')  # Use 'gray' colormap for grayscale image\n",
    "plt.title('Framed Grayscale Image (Inside Border)')\n",
    "plt.axis('off')  # Hide axis\n",
    "plt.show()\n",
    "```"
   ]
  },
  {
   "cell_type": "markdown",
   "metadata": {},
   "source": [
    "### Display the RGB Image with Border\n",
    "```python\n",
    "plt.imshow(framed_rgb_img)  # For RGB, no colormap needed\n",
    "plt.title('Framed RGB Image (Outside Border)')\n",
    "plt.axis('off')  # Hide axis\n",
    "plt.show()\n",
    "```"
   ]
  },
  {
   "cell_type": "markdown",
   "metadata": {},
   "source": [
    "## Customizing Border Size and Color\n",
    "You can customize the size and color of the border based on your requirements. The `h_border` and `w_border` parameters control the height and width of the border, and the `color` parameter controls the border color.\n",
    "\n",
    "### Example 1: Thicker Border Inside the Image\n",
    "```python\n",
    "framed_grayscale_img_thick = frame_image(grayscale_img, h_border=50, w_border=50, inside=True, color=128)\n",
    "plt.imshow(framed_grayscale_img_thick, cmap='gray')\n",
    "plt.title('Grayscale Image with Thicker Inside Border')\n",
    "plt.axis('off')\n",
    "plt.show()\n",
    "```\n",
    "In this example, we use a thicker border (50 pixels) inside the grayscale image with a medium gray border (color 128).\n"
   ]
  },
  {
   "cell_type": "markdown",
   "metadata": {},
   "source": [
    "### Example 2: Custom Color Border Outside the Image\n",
    "```python\n",
    "framed_rgb_img_custom_color = frame_image(rgb_img, h_border=30, w_border=30, inside=False, color=(0, 255, 255))\n",
    "plt.imshow(framed_rgb_img_custom_color)\n",
    "plt.title('RGB Image with Custom Cyan Border')\n",
    "plt.axis('off')\n",
    "plt.show()\n",
    "```\n",
    "In this example, we add a **cyan** border outside the RGB image with a border size of 30 pixels.\n"
   ]
  },
  {
   "cell_type": "markdown",
   "metadata": {},
   "source": [
    "## Handling Small Images\n",
    "If the image is too small (for instance, 1x1 or 2x2 pixels), the function will issue a warning, and the result may not be meaningful. It is recommended to use images of reasonable size for visual effects.\n",
    "\n",
    "For instance, adding a border inside a 2x2 image would not work because the border would overlap with the image itself.\n",
    "You can try testing it with smaller images and see the warnings:\n",
    "```python\n",
    "small_img = np.random.rand(2, 2) * 255\n",
    "small_img = small_img.astype(np.uint8)\n",
    "framed_small_img = frame_image(small_img, h_border=2, w_border=2, inside=True, color=255)\n",
    "```"
   ]
  },
  {
   "cell_type": "markdown",
   "metadata": {},
   "source": [
    "## Conclusion\n",
    "In this tutorial, we have explored how to use the `frame_image` function to add decorative frames to grayscale and RGB images. We demonstrated how to customize the border size, color, and where the border is applied (inside or outside the image).\n",
    "\n",
    "Feel free to experiment with different images and border configurations to create visually appealing effects!"
   ]
  }
 ],
 "metadata": {
  "kernelspec": {
   "display_name": "Python 3",
   "language": "python",
   "name": "python3"
  },
  "language_info": {
   "codemirror_mode": {
    "name": "ipython",
    "version": 3
   },
   "file_extension": ".py",
   "mimetype": "text/x-python",
   "name": "python",
   "nbconvert_exporter": "python",
   "version": "3.8.5"
  }
 },
 "nbformat": 4,
 "nbformat_minor": 5
}
