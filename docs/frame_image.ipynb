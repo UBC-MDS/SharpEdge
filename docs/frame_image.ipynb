{
 "cells": [
  {
   "cell_type": "markdown",
   "metadata": {},
   "source": [
    "# Framing Images with `frame_image`\n",
    "\n",
    "This tutorial demonstrates how to use the `frame_image` function to add a decorative frame around both grayscale and RGB images. The frame can be applied **inside** or **outside** the image, with customizable border size and color.\n",
    "\n",
    "We will guide you through the usage and functionality of the `frame_image` function in various scenarios. Let's get started!\n"
   ]
  },
  {
   "cell_type": "markdown",
   "metadata": {},
   "source": [
    "## Importing Necessary Libraries\n",
    "First, let's import the required libraries. Make sure to install any missing dependencies if necessary.\n",
    "\n",
    "```python\n",
    "import numpy as np\n",
    "import matplotlib.pyplot as plt\n",
    "from sharpedge.frame_image import frame_image\n",
    "```"
   ]
  },
  {
   "cell_type": "markdown",
   "metadata": {},
   "source": [
    "## Preparing Your Image\n",
    "For the tutorial, let's load an example RGB image and create a simple grayscale image.\n",
    "\n",
    "### Example 1: Grayscale Image\n",
    "We'll use a simple rectangular grayscale image.\n",
    "\n",
    "```python\n",
    "# Create a rectangular grayscale image (150x100 pixels)\n",
    "grayscale_img = np.ones((150, 100)) * 128  # A gray rectangle\n",
    "```"
   ]
  },
  {
   "cell_type": "markdown",
   "metadata": {},
   "source": [
    "### Example 2: RGB Image\n",
    "Next, let's create an RGB image of a square shape (100x100 pixels) with random colors.\n",
    "\n",
    "```python\n",
    "# Create a random RGB image (100x100 pixels)\n",
    "rgb_img = np.random.rand(100, 100, 3) * 255  # Random RGB values between 0 and 255\n",
    "rgb_img = rgb_img.astype(np.uint8)\n",
    "```"
   ]
  },
  {
   "cell_type": "markdown",
   "metadata": {},
   "source": [
    "## Applying the `frame_image` Function\n",
    "We can now apply the `frame_image` function to add a border around the grayscale and RGB images. You can customize the border size and color.\n",
    "\n",
    "### Add a Border Inside the Grayscale Image\n",
    "Let's add a border **inside** the grayscale image, keeping the size of the image the same. We'll use a white border for this example.\n",
    "\n",
    "```python\n",
    "# Add an inside border to the grayscale image\n",
    "framed_grayscale_img = frame_image(grayscale_img, h_border=20, w_border=20, inside=True, color=255)\n",
    "```"
   ]
  },
  {
   "cell_type": "markdown",
   "metadata": {},
   "source": [
    "### Add a Border Outside the RGB Image\n",
    "Next, let's add a border **outside** the RGB image, which will increase the image size. We'll use a red border for this example.\n",
    "\n",
    "```python\n",
    "# Add an outside border to the RGB image\n",
    "framed_rgb_img = frame_image(rgb_img, h_border=20, w_border=20, inside=False, color=(255, 0, 0))\n",
    "```"
   ]
  },
  {
   "cell_type": "markdown",
   "metadata": {},
   "source": [
    "## Displaying the Results\n",
    "Let's now display both framed images using `matplotlib`.\n",
    "\n",
    "### Display the Grayscale Image with Border\n",
    "```python\n",
    "plt.imshow(framed_grayscale_img, cmap='gray')  # Use 'gray' colormap for grayscale image\n",
    "plt.title('Framed Grayscale Image (Inside Border)')\n",
    "plt.axis('off')  # Hide axis\n",
    "plt.show()\n",
    "```"
   ]
  },
  {
   "cell_type": "markdown",
   "metadata": {},
   "source": [
    "### Display the RGB Image with Border\n",
    "```python\n",
    "plt.imshow(framed_rgb_img)  # For RGB, no colormap needed\n",
    "plt.title('Framed RGB Image (Outside Border)')\n",
    "plt.axis('off')  # Hide axis\n",
    "plt.show()\n",
    "```"
   ]
  },
  {
   "cell_type": "markdown",
   "metadata": {},
   "source": [
    "## Customizing Border Size\n",
    "You can easily adjust the size of the border by changing the `h_border` and `w_border` parameters. Here are a few examples:\n",
    "\n",
    "### Example 1: Thicker Border Inside the Grayscale Image\n",
    "```python\n",
    "# Add a thicker inside border to the grayscale image\n",
    "framed_grayscale_img_thick = frame_image(grayscale_img, h_border=50, w_border=50, inside=True, color=128)\n",
    "plt.imshow(framed_grayscale_img_thick, cmap='gray')\n",
    "plt.title('Grayscale Image with Thicker Inside Border')\n",
    "plt.axis('off')\n",
    "plt.show()\n",
    "```\n",
    "In this example, we use a thicker border (50 pixels) inside the grayscale image.\n"
   ]
  },
  {
   "cell_type": "markdown",
   "metadata": {},
   "source": [
    "### Example 2: Larger Outside Border for the RGB Image\n",
    "```python\n",
    "# Add a larger outside border to the RGB image\n",
    "framed_rgb_img_large_border = frame_image(rgb_img, h_border=50, w_border=50, inside=False, color=(255, 0, 0))\n",
    "plt.imshow(framed_rgb_img_large_border)\n",
    "plt.title('RGB Image with Larger Outside Border')\n",
    "plt.axis('off')\n",
    "plt.show()\n",
    "```\n",
    "In this example, we use a larger border (50 pixels) outside the RGB image.\n"
   ]
  },
  {
   "cell_type": "markdown",
   "metadata": {},
   "source": [
    "## Customizing Border Color\n",
    "You can also customize the color of the border. Below are a few examples:\n",
    "\n",
    "### Example 1: Custom Color Border for the Grayscale Image\n",
    "For the grayscale image, you can choose any grayscale shade.\n",
    "\n",
    "```python\n",
    "# Add a grayscale border (light gray) to the grayscale image\n",
    "framed_grayscale_img_gray = frame_image(grayscale_img, h_border=30, w_border=30, inside=False, color=200)\n",
    "plt.imshow(framed_grayscale_img_gray, cmap='gray')\n",
    "plt.title('Grayscale Image with Light Gray Border')\n",
    "plt.axis('off')\n",
    "plt.show()\n",
    "```\n",
    "In this example, we add a light gray border to the grayscale image with a border size of 30 pixels.\n"
   ]
  },
  {
   "cell_type": "markdown",
   "metadata": {},
   "source": [
    "### Example 2: Custom RGB Border Color\n",
    "For the RGB image, you can use any RGB color, like blue, red, green, or even custom colors like purple.\n",
    "\n",
    "```python\n",
    "# Add a custom blue border to the RGB image\n",
    "framed_rgb_img_blue = frame_image(rgb_img, h_border=30, w_border=30, inside=False, color=(0, 0, 255))\n",
    "plt.imshow(framed_rgb_img_blue)\n",
    "plt.title('RGB Image with Blue Border')\n",
    "plt.axis('off')\n",
    "plt.show()\n",
    "```\n",
    "In this example, we add a blue border to the RGB image with a border size of 30 pixels.\n"
   ]
  },
  {
   "cell_type": "markdown",
   "metadata": {},
   "source": [
    "## Conclusion\n",
    "In this tutorial, we have explored how to use the `frame_image` function to add decorative frames to grayscale and RGB images. We demonstrated how to customize the border size, color, and where the border is applied (inside or outside the image).\n",
    "\n",
    "Feel free to experiment with different images and border configurations to create visually appealing effects!"
   ]
  }
 ],
 "metadata":
