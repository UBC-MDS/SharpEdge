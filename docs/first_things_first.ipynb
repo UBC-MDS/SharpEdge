{
 "cells": [
  {
   "cell_type": "markdown",
   "metadata": {},
   "source": [
    "# First things first!\n",
    "\n",
    "Welcome to the SharpEdge package documentation! This package provides a collection of image processing for efficient manipulation and transformation of images.\n",
    "\n",
    "> P.S. How about writing a fun scenario where our package can be of great help? Also, the title can change if we have a scenario. \n",
    "> \n",
    "> e.g. A cat meme enthusiast who wish to so some transformation to her cat pictures so she can make better cat memes."
   ]
  },
  {
   "cell_type": "markdown",
   "metadata": {},
   "source": [
    "## Image Preparation\n",
    "\n",
    "Some explanation for loading images as a numpy array and displaying numpy array as images (pick some **fun** sample images, and maybe we can use that image for all our functions).\n",
    "\n",
    "(Also don't forget to convert the image from the 0-1 scale to the 0-255 scale for functions other than `seam_carve`.)"
   ]
  },
  {
   "cell_type": "code",
   "execution_count": null,
   "metadata": {},
   "outputs": [],
   "source": [
    "# Code for image loading, color scale conversion, and displaying. We can start here."
   ]
  }
 ],
 "metadata": {
  "language_info": {
   "name": "python"
  }
 },
 "nbformat": 4,
 "nbformat_minor": 2
}
