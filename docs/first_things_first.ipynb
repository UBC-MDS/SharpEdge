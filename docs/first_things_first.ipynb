{
 "cells": [
  {
   "cell_type": "markdown",
   "metadata": {},
   "source": [
    "# First Things First\n",
    "This tutorial will guide you through loading and manipulating images with numpy arrays. We'll start with how to load an image from different sources, convert it to a numpy array, and visualize it. We will also briefly discuss the differences between grayscale and RGB images, and when color scale conversion may be needed."
   ]
  },
  {
   "cell_type": "code",
   "execution_count": 1,
   "metadata": {},
   "outputs": [],
   "source": [
    "# Importing necessary libraries\n",
    "import numpy as np\n",
    "import matplotlib.pyplot as plt\n",
    "from skimage import io\n"
   ]
  },
  {
   "cell_type": "markdown",
   "metadata": {},
   "source": [
    "## Load Image\n",
    "We will start by loading an image from different sources: from the disk, from the web, and from a library (skimage). Let's begin by loading an image from disk (ensure it's in the range [0, 1])."
   ]
  },
  {
   "cell_type": "code",
   "execution_count": 2,
   "metadata": {},
   "outputs": [],
   "source": [
    "# Load image from disk (assuming you have an image in [0, 1] range in the 'test' folder)\n",
    "image_disk = io.imread('test/sample_image.png')  # Use an image in the range [0, 1]\n",
    "plt.imshow(image_disk)\n",
    "plt.title('Loaded Image from Disk')\n",
    "plt.show()"
   ]
  },
  {
   "cell_type": "markdown",
   "metadata": {},
   "source": [
    "### Load Image from Web\n",
    "Now let's load an image from the web using `matplotlib`. This is a quick and easy way to get a sample image.\n",
    "This example uses an image URL."
   ]
  },
  {
   "cell_type": "code",
   "execution_count": 3,
   "metadata": {},
   "outputs": [],
   "source": [
    "# Load image from a web URL (Example: Matplotlib default image)\n",
    "url = 'https://scikit-image.org/docs/stable/_images/flower.jpg'\n",
    "image_web = io.imread(url)\n",
    "plt.imshow(image_web)\n",
    "plt.title('Loaded Image from Web')\n",
    "plt.show()"
   ]
  },
  {
   "cell_type": "markdown",
   "metadata": {},
   "source": [
    "### Load Image from skimage Library\n",
    "Lastly, we'll load a sample image directly from the `skimage` library. Skimage comes with several sample images for quick testing."
   ]
  },
  {
   "cell_type": "code",
   "execution_count": 4,
   "metadata": {},
   "outputs": [],
   "source": [
    "# Load image from skimage library (Example: moon image)\n",
    "image_skimage = io.imread('https://image.shutterstock.com/image-photo/large-image.jpg')\n",
    "plt.imshow(image_skimage)\n",
    "plt.title('Loaded Image from Skimage Library')\n",
    "plt.show()"
   ]
  },
  {
   "cell_type": "markdown",
   "metadata": {},
   "source": [
    "## Convert Image to Numpy\n",
    "Once you load an image, the next step is converting it to a numpy array. This helps in manipulating image data directly for tasks like resizing, color conversion, and feature extraction.\n",
    "Here, we will display the numpy representation of the image, including its range."
   ]
  },
  {
   "cell_type": "code",
   "execution_count": 5,
   "metadata": {},
   "outputs": [],
   "source": [
    "# Convert to numpy array and check the range\n",
    "image_np = np.array(image_skimage)\n",
    "print(f'Image as numpy array (range [0,1]): {image_np}')\n",
    "print(f'Image shape: {image_np.shape}')"
   ]
  },
  {
   "cell_type": "markdown",
   "metadata": {},
   "source": [
    "### Numpy Representation of 1: [0,1] Range\n",
    "The values in numpy arrays are generally within the range [0, 1] for images in grayscale or RGB format that use float values. Let's show an example."
   ]
  },
  {
   "cell_type": "code",
   "execution_count": 6,
   "metadata": {},
   "outputs": [],
   "source": [
    "# Example of 1-channel (grayscale) image with values between 0 and 1\n",
    "image_1_channel = np.random.rand(256, 256)  # random grayscale image in range [0, 1]\n",
    "plt.imshow(image_1_channel, cmap='gray')\n",
    "plt.title('Grayscale Image [0, 1] Range')\n",
    "plt.show()"
   ]
  },
  {
   "cell_type": "markdown",
   "metadata": {},
   "source": [
    "### Numpy Representation of 3: [0, 255] Range\n",
    "For RGB images or images stored in integer form, we often encounter values in the range [0, 255]. Here's an example of a 3-channel image in that range."
   ]
  },
  {
   "cell_type": "code",
   "execution_count": 7,
   "metadata": {},
   "outputs": [],
   "source": [
    "# Example of 3-channel (RGB) image with values between 0 and 255\n",
    "image_3_channel = np.random.randint(0, 256, (256, 256, 3))  # random RGB image in range [0, 255]\n",
    "plt.imshow(image_3_channel)\n",
    "plt.title('RGB Image [0, 255] Range')\n",
    "plt.show()"
   ]
  },
  {
   "cell_type": "markdown",
   "metadata": {},
   "source": [
    "### 2D vs. 3D: Grayscale vs. RGB\n",
    "Note the difference between grayscale (2D) and RGB (3D) images. A grayscale image has a single value per pixel, while an RGB image has three values per pixel (one for each color channel)."
   ]
  },
  {
   "cell_type": "code",
   "execution_count": 8,
   "metadata": {},
   "outputs": [],
   "source": [
    "# Let's print the shape of both types of images for comparison\n",
    "print(f'Grayscale shape: {image_1_channel.shape}')\n",
    "print(f'RGB shape: {image_3_channel.shape}')"
   ]
  },
  {
   "cell_type": "markdown",
   "metadata": {},
   "source": [
    "## Display Image\n",
    "Now that we've loaded and converted the image, let's display it. Here's how you can display both grayscale and RGB images using matplotlib."
   ]
  },
  {
   "cell_type": "code",
   "execution_count": 9,
   "metadata": {},
   "outputs": [],
   "source": [
    "# Display grayscale image\n",
    "plt.imshow(image_1_channel, cmap='gray')\n",
    "plt.title('Grayscale Image Display')\n",
    "plt.show()\n",
    "\n",
    "# Display RGB image\n",
    "plt.imshow(image_3_channel)\n",
    "plt.title('RGB Image Display')\n",
    "plt.show()"
   ]
  },
  {
   "cell_type": "markdown",
   "metadata": {},
   "source": [
    "### Color Scale Conversion (If Needed)\n",
    "In some cases, it is necessary to convert the color scale of the image. For example, when using seam carving or other techniques that expect a specific format.\n",
    "Let's explore when and why color scale conversion is needed, particularly converting from [0, 1] to [0, 255] for more practical image manipulations."
   ]
  },
  {
   "cell_type": "code",
   "execution_count": 10,
   "metadata": {},
   "outputs": [],
   "source": [
    "# Convert image from [0,1] to [0,255]\n",
    "image_converted = (image_1_channel * 255).astype(np.uint8)\n",
    "plt.imshow(image_converted, cmap='gray')\n",
    "plt.title('Converted Image [0, 255]')\n",
    "plt.show()"
   ]
  },
  {
   "cell_type": "markdown",
   "metadata": {},
   "source": [
    "## Utility and Input Checker\n",
    "To make sure inputs to our functions are valid and usable, we provide a utility and input checker. This helps verify that the input data meets the requirements of the functions, ensuring that the functions behave as expected."
   ]
  },
  {
   "cell_type": "code",
   "execution_count": 11,
   "metadata": {},
   "outputs": [],
   "source": [
    "# Example of input checker utility\n",
    "def check_image_input(image):\n",
    "    if not isinstance(image, np.ndarray):\n",
    "        raise ValueError('Input must be a numpy array')\n",
    "    if image.ndim not in [2, 3]:\n",
    "        raise ValueError('Image must be 2D (grayscale) or 3D (RGB)')\n",
    "    print('Input is valid')\n",
    "\n",
    "check_image_input(image_1_channel)\n",
    "check_image_input(image_3_channel)"
   ]
  },
  {
   "cell_type": "markdown",
   "metadata": {},
   "source": [
    "## Final Remarks\n",
    "Now that we have loaded, converted, and displayed images in different formats, it is time to explore individual functions. Please refer to the full documentation for more details, and have fun experimenting with the different techniques!"
   ]
  }
 ]
}
