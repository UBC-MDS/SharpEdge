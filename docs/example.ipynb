{
    "cells": [
        {
            "cell_type": "markdown",
            "metadata": {},
            "source": [
                "# SharpEdge Tutorial\n",
                "\n",
                "Welcome to the SharpEdge package documentation! This package provides a collection of image processing for efficient manipulation and transformation of images."
            ]
        },
        {
            "cell_type": "markdown",
            "metadata": {},
            "source": [
                "## Tutorials\n",
                "\n",
                "How about writing a fun scenario where our package can be of great help?\n",
                "\n",
                "### Quick Start with Image Loading and Displaying\n",
                "\n",
                "Some explanation for loading images as a numpy array and displaying numpy array as images (pick some **fun** sample images, and maybe we can use that image for all our functions).\n",
                "\n",
                "Also don't forget to convert the image from the 0-1 scale to the 0-255 scale for functions other than `seam_carve`."
            ]
        },
        {
            "cell_type": "code",
            "execution_count": null,
            "metadata": {},
            "outputs": [],
            "source": [
                "# Code for image loading, color scale conversion, and displaying"
            ]
        },
        {
            "cell_type": "markdown",
            "metadata": {},
            "source": [
                "### Image Reposition\n",
                "\n",
                "Some explanation for what `reposition_image` do.\n",
                "\n",
                "#### Usage\n",
                "\n",
                "Show and describe how the sample images can be transformed. "
            ]
        },
        {
            "cell_type": "code",
            "execution_count": null,
            "metadata": {},
            "outputs": [],
            "source": [
                "# Code for reposition_image"
            ]
        },
        {
            "cell_type": "markdown",
            "metadata": {},
            "source": [
                "### Image Framing\n",
                "\n",
                "Some explanation for what `frame_image` do.\n",
                "\n",
                "#### Usage\n",
                "\n",
                "Show and describe how the sample images can be transformed. "
            ]
        },
        {
            "cell_type": "code",
            "execution_count": null,
            "metadata": {},
            "outputs": [],
            "source": [
                "# Code for frame_image"
            ]
        },
        {
            "cell_type": "markdown",
            "metadata": {},
            "source": [
                "### Image Modulation\n",
                "\n",
                "This title seems hard to understand for users. Any thoughts?\n",
                "\n",
                "Some explanation for what `frame_image` do. \n",
                "\n",
                "#### Usage\n",
                "\n",
                "Show and describe how the sample images can be transformed. "
            ]
        },
        {
            "cell_type": "code",
            "execution_count": null,
            "metadata": {},
            "outputs": [],
            "source": [
                "# Code for modulate_image"
            ]
        },
        {
            "cell_type": "markdown",
            "metadata": {},
            "source": [
                "### Image Pooling\n",
                "\n",
                "Some explanation for what `pooling_image` do. \n",
                "\n",
                "#### Usage\n",
                "\n",
                "Show and describe how the sample images can be transformed. "
            ]
        },
        {
            "cell_type": "code",
            "execution_count": null,
            "metadata": {},
            "outputs": [],
            "source": [
                "# Code for pooling_image"
            ]
        },
        {
            "cell_type": "markdown",
            "metadata": {},
            "source": [
                "### PCA Compression\n",
                "\n",
                "Some explanation for what `pca_compression` do. \n",
                "\n",
                "#### Usage\n",
                "\n",
                "Show and describe how the sample images can be transformed. "
            ]
        },
        {
            "cell_type": "code",
            "execution_count": null,
            "metadata": {},
            "outputs": [],
            "source": [
                "# Code for pca_compression"
            ]
        },
        {
            "cell_type": "markdown",
            "metadata": {},
            "source": [
                "### Seam Carving\n",
                "\n",
                "Some explanation for what `seam_carve` do. \n",
                "\n",
                "#### Usage\n",
                "\n",
                "Show and describe how the sample images can be transformed. "
            ]
        },
        {
            "cell_type": "code",
            "execution_count": null,
            "metadata": {},
            "outputs": [],
            "source": [
                "# Code for seam_carve"
            ]
        }
    ],
    "metadata": {
        "kernelspec": {
            "display_name": "Python 3",
            "language": "python",
            "name": "python3"
        },
        "language_info": {
            "codemirror_mode": {
                "name": "ipython",
                "version": 3
            },
            "file_extension": ".py",
            "mimetype": "text/x-python",
            "name": "python",
            "nbconvert_exporter": "python",
            "pygments_lexer": "ipython3",
            "version": "3.8.5"
        }
    },
    "nbformat": 4,
    "nbformat_minor": 4
}
