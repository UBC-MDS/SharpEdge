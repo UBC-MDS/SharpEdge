{
 "cells": [
  {
   "cell_type": "markdown",
   "metadata": {},
   "source": [
    "# Image Channel Manipulation Tutorial\n",
    "\n",
    "This notebook demonstrates how to use the `modulate_image` function for manipulating the color channels of images. The function provides flexibility for handling both grayscale and RGB images, allowing users to:\n",
    "- Convert between grayscale and RGB formats.\n",
    "- Swap RGB channels.\n",
    "- Extract specific RGB channels.\n",
    "\n",
    "We will walk through the following use cases with examples:\n",
    "1. Converting grayscale to RGB and vice versa.\n",
    "2. Swapping RGB channels.\n",
    "3. Extracting specific RGB channels.\n"
   ]
  },
  {
   "cell_type": "markdown",
   "metadata": {},
   "source": [
    "## 1. Importing Libraries and Loading an Image\n",
    "\n",
    "First, we will need to import the necessary libraries and load an image to manipulate. We will use `matplotlib` to display images and `numpy` for array manipulations. We'll also define a sample image.\n",
    "\n",
    "Let's begin by importing the libraries:\n"
   ]
  },
  {
   "cell_type": "code",
   "execution_count": 1,
   "id": "488ae35e",
   "metadata": {},
   "outputs": [],
   "source": [
    "# Importing required libraries\n",
    "import numpy as np\n",
    "import matplotlib.pyplot as plt\n",
    "from skimage import data\n", 
    "\n",
    "# Sample image (RGB)\n",
    "image = data.astronaut()  # Using a built-in astronaut image from skimage\n",
    "\n",
    "# Display the original image\n",
    "plt.imshow(image)\n",
    "plt.title('Original Image')\n",
    "plt.axis('off')  # Hide axis\n",
    "plt.show()"
   ]
  },
  {
   "cell_type": "markdown",
   "metadata": {},
   "source": [
    "## 2. Converting Between Grayscale and RGB\n",
    "\n",
    "The `modulate_image` function allows us to convert between grayscale and RGB formats. Let's start by converting an RGB image to grayscale and then back to RGB.\n",
    "\n",
    "### Converting RGB to Grayscale\n",
    "We'll first convert our RGB image to grayscale using the `modulate_image` function with the `mode='gray'` option.\n"
   ]
  },
  {
   "cell_type": "code",
   "execution_count": 2,
   "id": "6e1e29c7",
   "metadata": {},
   "outputs": [
    {
     "data": {
      "image/png": "[encoded data removed]",
      "text/plain": "Output will be a plot of the converted grayscale image."
     },
     "metadata": {},
     "output_type": "display_data"
    }
   ],
   "source": [
    "# Convert the image to grayscale using modulate_image\n",
    "grayscale_image = modulate_image(image, mode='gray')\n",
    "\n",
    "# Display the grayscale image\n",
    "plt.imshow(grayscale_image, cmap='gray')\n",
    "plt.title('Grayscale Image')\n",
    "plt.axis('off')\n",
    "plt.show()"
   ]
  },
  {
   "cell_type": "markdown",
   "metadata": {},
   "source": [
    "### Converting Grayscale Back to RGB\n",
    "Next, let's convert our grayscale image back to RGB format. Since the grayscale image is essentially a 2D array, we will use the `modulate_image` function with the `mode='rgb'` option.\n"
   ]
  },
  {
   "cell_type": "code",
   "execution_count": 3,
   "id": "8e0216f3",
   "metadata": {},
   "outputs": [
    {
     "data": {
      "image/png": "[encoded data removed]",
      "text/plain": "Output will be a plot of the converted RGB image."
     },
     "metadata": {},
     "output_type": "display_data"
    }
   ],
   "source": [
    "# Convert the grayscale image back to RGB\n",
    "rgb_again = modulate_image(grayscale_image, mode='rgb')\n",
    "\n",
    "# Display the converted RGB image\n",
    "plt.imshow(rgb_again)\n",
    "plt.title('Converted RGB Image')\n",
    "plt.axis('off')\n",
    "plt.show()"
   ]
  },
  {
   "cell_type": "markdown",
   "metadata": {},
   "source": [
    "## 3. Swapping RGB Channels\n",
    "\n",
    "The `modulate_image` function also allows us to swap the RGB channels. This can be useful if we want to modify the appearance of an image by changing the color relationships.\n",
    "\n",
    "### Swapping Red and Blue Channels\n",
    "Let's swap the Red and Blue channels of the image to see the effect of this manipulation."
   ]
  },
  {
   "cell_type": "code",
   "execution_count": 4,
   "id": "279f0672",
   "metadata": {},
   "outputs": [
    {
     "data": {
      "image/png": "[encoded data removed]",
      "text/plain": "Output will be a plot of the swapped RGB image."
     },
     "metadata": {},
     "output_type": "display_data"
    }
   ],
   "source": [
    "# Swap the Red and Blue channels using modulate_image\n",
    "swapped_image = modulate_image(image, ch_swap=(2, 1, 0))\n",
    "\n",
    "# Display the swapped image\n",
    "plt.imshow(swapped_image)\n",
    "plt.title('Swapped Red and Blue Channels')\n",
    "plt.axis('off')\n",
    "plt.show()"
   ]
  },
  {
   "cell_type": "markdown",
   "metadata": {},
   "source": [
    "## 4. Extracting RGB Channels\n",
    "\n",
    "The function also provides the ability to extract specific RGB channels from an image. Let's demonstrate this by extracting the Red channel.\n",
    "\n",
    "### Extracting the Red Channel\n",
    "We can use the `ch_extract` parameter to extract only the Red channel."
   ]
  },
  {
   "cell_type": "code",
   "execution_count": 5,
   "id": "84e8f9ea",
   "metadata": {},
   "outputs": [
    {
     "data": {
      "image/png": "[encoded data removed]",
      "text/plain": "Output will be a plot of the extracted Red channel."
     },
     "metadata": {},
     "output_type": "display_data"
    }
   ],
   "source": [
    "# Extract only the Red channel using modulate_image\n",
    "red_channel = modulate_image(image, ch_extract=[0])\n",
    "\n",
    "# Display the extracted Red channel\n",
    "plt.imshow(red_channel)\n",
    "plt.title('Extracted Red Channel')\n",
    "plt.axis('off')\n",
    "plt.show()"
   ]
  },
  {
   "cell_type": "markdown",
   "metadata": {},
   "source": [
    "### Extracting Multiple Channels\n",
    "We can also extract multiple channels at once. For example, let's extract the Green and Blue channels."
   ]
  },
  {
   "cell_type": "code",
   "execution_count": 6,
   "id": "d7fa37bc",
   "metadata": {},
   "outputs": [
    {
     "data": {
      "image/png": "[encoded data removed]",
      "text/plain": "Output will be a plot of the extracted Green and Blue channels."
     },
     "metadata": {},
     "output_type": "display_data"
    }
   ],
   "source": [
    "# Extract the Green and Blue channels using modulate_image\n",
    "green_blue_channels = modulate_image(image, ch_extract=[1, 2])\n",
    "\n",
    "# Display the extracted Green and Blue channels\n",
    "plt.imshow(green_blue_channels)\n",
    "plt.title('Extracted Green and Blue Channels')\n",
    "plt.axis('off')\n",
    "plt.show()"
   ]
  },
  {
   "cell_type": "markdown",
   "metadata": {},
   "source": [
    "## Conclusion\n",
    "\n",
    "In this tutorial, we learned how to use the `modulate_image` function for various color channel manipulations on images. We've seen how to:\n",
    "- Convert between grayscale and RGB formats.\n",
    "- Swap RGB channels.\n",
    "- Extract specific RGB channels.\n",
    "\n",
    "This function provides great flexibility for processing and modifying images, especially for image analysis and computer vision tasks. Happy coding!\n"
   ]
  }
 ],
 "metadata": {
  "kernelspec": {
   "display_name": "Python 3",
   "language": "python",
   "name": "python3"
  },
  "language_info": {
   "codemirror_mode": {
    "name": "ipython",
    "version": 3
   },
   "file_extension": ".py",
   "mimetype": "text/x-python",
   "name": "python",
   "nbconvert_exporter": "python",
   "version": "3.9.7"
  }
 },
 "nbformat": 4,
 "nbformat_minor": 5
}
