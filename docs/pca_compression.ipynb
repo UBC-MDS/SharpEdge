{
 "cells": [
  {
   "cell_type": "markdown",
   "metadata": {},
   "source": [
    "# PCA Compression\n",
    "\n",
    "Some explanation for what `pca_compression` do. \n",
    "\n",
    "## Usage\n",
    "\n",
    "Show and describe how the sample images can be transformed. "
   ]
  },
  {
   "cell_type": "code",
   "execution_count": null,
   "metadata": {},
   "outputs": [],
   "source": [
    "# Code for pca_compression"
   ]
  }
 ],
 "metadata": {
  "language_info": {
   "name": "python"
  }
 },
 "nbformat": 4,
 "nbformat_minor": 2
}
